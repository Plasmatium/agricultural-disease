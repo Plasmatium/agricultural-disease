{
 "cells": [
  {
   "cell_type": "code",
   "execution_count": null,
   "metadata": {},
   "outputs": [],
   "source": [
    "import numpy as np\n",
    "import tensorflow as tf\n",
    "import matplotlib.pyplot as plt\n",
    "from PIL import Image\n",
    "from glob import glob\n",
    "import pandas as pd\n",
    "import sys\n",
    "from os import path\n",
    "import utils\n",
    "\n",
    "from models import Model\n",
    "\n",
    "m = Model(512)\n",
    "\n",
    "utils.show_params_scale()\n",
    "\n",
    "m.train(4)\n",
    "\n"
   ]
  },
  {
   "cell_type": "code",
   "execution_count": null,
   "metadata": {},
   "outputs": [],
   "source": [
    "## make graph\n",
    "\n",
    "with tf.Session() as sess:\n",
    "    writer = tf.summary.FileWriter('../../logs/ad_test', sess.graph)\n",
    "    \n",
    "\n"
   ]
  },
  {
   "cell_type": "code",
   "execution_count": null,
   "metadata": {},
   "outputs": [],
   "source": [
    "## test\n",
    "\n",
    "from data_flow import DataFlow\n",
    "\n",
    "vdf = DataFlow()\n",
    "feeder = vdf.feed('validation')\n",
    "\n",
    "ckpt = tf.train.latest_checkpoint('../../ckpt/agr-ds/')\n",
    "\n",
    "data = next(feeder)\n",
    "with tf.Session() as sess:\n",
    "    m.saver.restore(sess, ckpt)\n",
    "    img_data, labels = data\n",
    "    sp, ds, sr, full_lb = labels\n",
    "    img_data = img_data[:80]\n",
    "    sp = sp[:80]\n",
    "    ds = ds[:80]\n",
    "    sr = sr[:80]\n",
    "    full_lb = full_lb[:80]\n",
    "    \n",
    "    feed_dict = {\n",
    "        m.pl_inData: img_data,\n",
    "#         m.pl_sp_lb: sp,\n",
    "#         m.pl_ds_lb: ds,\n",
    "#         m.pl_sr_lb: sr,\n",
    "#         m.pl_full_lb: full_lb,\n",
    "        m.pl_training: False,\n",
    "    }\n",
    "    \n",
    "    pred = sess.run(tf.nn.softmax(m.out4_logits), feed_dict=feed_dict)\n",
    "\n",
    "pred_ = np.argmax(pred, axis=1)\n",
    "lb_ = np.argmax(full_lb, axis=1)\n",
    "\n",
    "sum(pred_ == lb_)/len(pred_)\n",
    "\n"
   ]
  },
  {
   "cell_type": "code",
   "execution_count": 3,
   "metadata": {},
   "outputs": [
    {
     "name": "stdout",
     "output_type": "stream",
     "text": [
      "total 1093524K\n",
      "-rw-r--r-- 1 Herdsric 197121      12K Sep 11 17:49 labels.xlsx\n",
      "-rw-r--r-- 1 Herdsric 197121       4K Sep 11 17:51 labels_map.csv\n",
      "drwxr-xr-x 1 Herdsric 197121       0K Sep  5 12:38 testA\n",
      "-rw-r--r-- 1 Herdsric 197121 1092103K Sep 13 00:13 training.h5\n",
      "drwxr-xr-x 1 Herdsric 197121       0K Sep 10 11:43 trainingset\n",
      "drwxr-xr-x 1 Herdsric 197121       0K Sep 10 11:43 validationset\n"
     ]
    }
   ],
   "source": [
    "!ls -l --block-size=k ../../dataset/AgriculturalDisease/"
   ]
  },
  {
   "cell_type": "code",
   "execution_count": 1,
   "metadata": {},
   "outputs": [
    {
     "name": "stdout",
     "output_type": "stream",
     "text": [
      "total 57941\n",
      "-rw-r--r-- 1 Herdsric 197121      167 Sep 13 23:31 checkpoint\n",
      "-rw-r--r-- 1 Herdsric 197121 13081820 Sep 13 23:26 model.ckpt-0.data-00000-of-00001\n",
      "-rw-r--r-- 1 Herdsric 197121     2659 Sep 13 23:26 model.ckpt-0.index\n",
      "-rw-r--r-- 1 Herdsric 197121   454158 Sep 13 23:26 model.ckpt-0.meta\n",
      "-rw-r--r-- 1 Herdsric 197121 13081820 Sep 13 23:28 model.ckpt-1.data-00000-of-00001\n",
      "-rw-r--r-- 1 Herdsric 197121     2659 Sep 13 23:28 model.ckpt-1.index\n",
      "-rw-r--r-- 1 Herdsric 197121   454158 Sep 13 23:28 model.ckpt-1.meta\n",
      "-rw-r--r-- 1 Herdsric 197121 13081820 Sep 13 23:31 model.ckpt-2.data-00000-of-00001\n",
      "-rw-r--r-- 1 Herdsric 197121     2659 Sep 13 23:31 model.ckpt-2.index\n",
      "-rw-r--r-- 1 Herdsric 197121   454158 Sep 13 23:31 model.ckpt-2.meta\n",
      "-rw-r--r-- 1 Herdsric 197121 13081820 Sep 13 23:00 model.ckpt-3.data-00000-of-00001\n",
      "-rw-r--r-- 1 Herdsric 197121     2659 Sep 13 23:00 model.ckpt-3.index\n",
      "-rw-r--r-- 1 Herdsric 197121   454158 Sep 13 23:00 model.ckpt-3.meta\n",
      "-rw-r--r-- 1 Herdsric 197121  4623580 Sep 13 21:37 model.ckpt.data-00000-of-00001\n",
      "-rw-r--r-- 1 Herdsric 197121     2611 Sep 13 21:37 model.ckpt.index\n",
      "-rw-r--r-- 1 Herdsric 197121   533764 Sep 13 21:37 model.ckpt.meta\n"
     ]
    }
   ],
   "source": [
    "!ls -l f:/dataset/AgriculturalDisease/"
   ]
  },
  {
   "cell_type": "code",
   "execution_count": null,
   "metadata": {},
   "outputs": [],
   "source": []
  }
 ],
 "metadata": {
  "kernelspec": {
   "display_name": "Python 3",
   "language": "python",
   "name": "python3"
  },
  "language_info": {
   "codemirror_mode": {
    "name": "ipython",
    "version": 3
   },
   "file_extension": ".py",
   "mimetype": "text/x-python",
   "name": "python",
   "nbconvert_exporter": "python",
   "pygments_lexer": "ipython3",
   "version": "3.6.5"
  }
 },
 "nbformat": 4,
 "nbformat_minor": 2
}
