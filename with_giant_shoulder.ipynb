{
 "cells": [
  {
   "cell_type": "code",
   "execution_count": 1,
   "metadata": {},
   "outputs": [],
   "source": [
    "%load_ext autoreload\n",
    "%autoreload 2"
   ]
  },
  {
   "cell_type": "code",
   "execution_count": 1,
   "metadata": {},
   "outputs": [
    {
     "name": "stdout",
     "output_type": "stream",
     "text": [
      "sc cls: 10, ds cls: 20, sr cls: 4\n"
     ]
    }
   ],
   "source": [
    "import numpy as np\n",
    "import tensorflow as tf\n",
    "import matplotlib.pyplot as plt\n",
    "from PIL import Image\n",
    "from glob import glob\n",
    "import pandas as pd\n",
    "import sys\n",
    "from os import path\n",
    "import utils\n",
    "from data_flow import DataFlow, gs_transfer\n",
    "\n",
    "base_dir = path.join('../../', 'dataset/AgriculturalDisease')\n",
    "\n",
    "tr_dir = path.join(base_dir, 'trainingset')\n",
    "v_dir = path.join(base_dir, 'validationset')\n",
    "t_dir = path.join(base_dir, 'testA')"
   ]
  },
  {
   "cell_type": "markdown",
   "metadata": {},
   "source": [
    "## run model"
   ]
  },
  {
   "cell_type": "code",
   "execution_count": 2,
   "metadata": {
    "scrolled": false
   },
   "outputs": [
    {
     "name": "stdout",
     "output_type": "stream",
     "text": [
      "initiating image keys\n",
      "building placeholder\n",
      "buliding model\n",
      "--- building sr cls block\n",
      "--- building sp cls block\n",
      "--- building ds cls block\n",
      "--- building full cls block\n",
      "building losses\n",
      "building optimizer & train_ops\n",
      "trainable: 1508621\n",
      "global: 4527669.0\n",
      "\n",
      "model_version: 1.0.5.1021\n"
     ]
    }
   ],
   "source": [
    "from gs_model import GS_Model\n",
    "\n",
    "model = GS_Model(256)"
   ]
  },
  {
   "cell_type": "code",
   "execution_count": 3,
   "metadata": {},
   "outputs": [
    {
     "name": "stdout",
     "output_type": "stream",
     "text": [
      "current losses: [1.1706179  1.9232918  2.6570454  0.59677374], last: 9.8, saving model\n",
      "valid loss: ['1.170618', '1.923292', '2.657045', '0.596774']\n",
      "current losses: [0.92773324 1.5405495  2.3546746  0.53635585], last: 0.5967737436294556, saving model\n",
      "valid loss: ['0.927733', '1.54055', '2.354674', '0.536356']\n",
      "current losses: [0.8262634  1.4061394  2.1961606  0.51689184], last: 0.5363558530807495, saving model\n",
      "valid loss: ['0.826263', '1.406139', '2.19616', '0.516892']\n",
      "current losses: [0.7857272 1.4021276 2.18481   0.4594411], last: 0.5168918371200562, saving model\n",
      "valid loss: ['0.785727', '1.402128', '2.18481', '0.459441']\n",
      "current losses: [0.7736488 1.3953121 2.1747236 0.4581639], last: 0.45944109559059143, saving model\n",
      "valid loss: ['0.773649', '1.395312', '2.174724', '0.458164']\n",
      "valid loss: ['0.768215', '1.387398', '2.164172', '0.460385']02']\n",
      "valid loss: ['0.766605', '1.388841', '2.163334', '0.458868']06']\n",
      "valid loss: ['0.766269', '1.38709', '2.162578', '0.460825']93']]\n",
      "step 3/126 | s: ['0.76468', '1.437989', '2.124637', '0.227051']]\r"
     ]
    },
    {
     "ename": "KeyboardInterrupt",
     "evalue": "",
     "output_type": "error",
     "traceback": [
      "\u001b[1;31m---------------------------------------------------------------------------\u001b[0m",
      "\u001b[1;31mKeyboardInterrupt\u001b[0m                         Traceback (most recent call last)",
      "\u001b[1;32m<timed eval>\u001b[0m in \u001b[0;36m<module>\u001b[1;34m()\u001b[0m\n",
      "\u001b[1;32mE:\\我的坚果云\\agricultural-disease\\gs_model.py\u001b[0m in \u001b[0;36mtrain\u001b[1;34m(self, epoch, ckpt_dir, go_on)\u001b[0m\n\u001b[0;32m    290\u001b[0m             \u001b[1;32mfor\u001b[0m \u001b[0mep\u001b[0m \u001b[1;32min\u001b[0m \u001b[0mrange\u001b[0m\u001b[1;33m(\u001b[0m\u001b[0mepoch\u001b[0m\u001b[1;33m)\u001b[0m\u001b[1;33m:\u001b[0m\u001b[1;33m\u001b[0m\u001b[0m\n\u001b[0;32m    291\u001b[0m                 \u001b[0mtr_feeder\u001b[0m \u001b[1;33m=\u001b[0m \u001b[0mself\u001b[0m\u001b[1;33m.\u001b[0m\u001b[0mget_feeder\u001b[0m\u001b[1;33m(\u001b[0m\u001b[1;34m'training'\u001b[0m\u001b[1;33m)\u001b[0m\u001b[1;33m\u001b[0m\u001b[0m\n\u001b[1;32m--> 292\u001b[1;33m                 \u001b[1;32mfor\u001b[0m \u001b[0mimg_data\u001b[0m\u001b[1;33m,\u001b[0m \u001b[0msr\u001b[0m\u001b[1;33m,\u001b[0m \u001b[0msp\u001b[0m\u001b[1;33m,\u001b[0m \u001b[0mds\u001b[0m\u001b[1;33m,\u001b[0m \u001b[0mfull_lb\u001b[0m \u001b[1;32min\u001b[0m \u001b[0mtr_feeder\u001b[0m\u001b[1;33m:\u001b[0m\u001b[1;33m\u001b[0m\u001b[0m\n\u001b[0m\u001b[0;32m    293\u001b[0m                     feed_dict = {\n\u001b[0;32m    294\u001b[0m                         \u001b[0mself\u001b[0m\u001b[1;33m.\u001b[0m\u001b[0mpl_lr\u001b[0m\u001b[1;33m:\u001b[0m \u001b[0mself\u001b[0m\u001b[1;33m.\u001b[0m\u001b[0mlr\u001b[0m\u001b[1;33m,\u001b[0m\u001b[1;33m\u001b[0m\u001b[0m\n",
      "\u001b[1;32mE:\\我的坚果云\\agricultural-disease\\gs_model.py\u001b[0m in \u001b[0;36mget_feeder\u001b[1;34m(self, key_type, batch_size)\u001b[0m\n\u001b[0;32m    241\u001b[0m                     \u001b[1;32mreturn\u001b[0m\u001b[1;33m\u001b[0m\u001b[0m\n\u001b[0;32m    242\u001b[0m                 \u001b[0mprint\u001b[0m\u001b[1;33m(\u001b[0m\u001b[1;34mf'step {ii+1}/{total} | '\u001b[0m\u001b[1;33m,\u001b[0m \u001b[0mend\u001b[0m\u001b[1;33m=\u001b[0m\u001b[1;34m'\\r'\u001b[0m\u001b[1;33m)\u001b[0m\u001b[1;33m\u001b[0m\u001b[0m\n\u001b[1;32m--> 243\u001b[1;33m                 \u001b[1;32myield\u001b[0m \u001b[0mstack_data_from_h5\u001b[0m\u001b[1;33m(\u001b[0m\u001b[0mfp\u001b[0m\u001b[1;33m,\u001b[0m \u001b[0mbatch_keys\u001b[0m\u001b[1;33m)\u001b[0m\u001b[1;33m\u001b[0m\u001b[0m\n\u001b[0m\u001b[0;32m    244\u001b[0m \u001b[1;33m\u001b[0m\u001b[0m\n\u001b[0;32m    245\u001b[0m \u001b[1;33m\u001b[0m\u001b[0m\n",
      "\u001b[1;32mE:\\我的坚果云\\agricultural-disease\\gs_model.py\u001b[0m in \u001b[0;36mstack_data_from_h5\u001b[1;34m(h5fp, batch_keys)\u001b[0m\n\u001b[0;32m    410\u001b[0m     \u001b[1;32mfor\u001b[0m \u001b[0mkey\u001b[0m \u001b[1;32min\u001b[0m \u001b[0mbatch_keys\u001b[0m\u001b[1;33m:\u001b[0m\u001b[1;33m\u001b[0m\u001b[0m\n\u001b[0;32m    411\u001b[0m         \u001b[0mrecord\u001b[0m \u001b[1;33m=\u001b[0m \u001b[0mh5fp\u001b[0m\u001b[1;33m[\u001b[0m\u001b[0mkey\u001b[0m\u001b[1;33m]\u001b[0m\u001b[1;33m\u001b[0m\u001b[0m\n\u001b[1;32m--> 412\u001b[1;33m         \u001b[0mimg_data\u001b[0m\u001b[1;33m.\u001b[0m\u001b[0mappend\u001b[0m\u001b[1;33m(\u001b[0m\u001b[0mrecord\u001b[0m\u001b[1;33m[\u001b[0m\u001b[1;34m'img_data'\u001b[0m\u001b[1;33m]\u001b[0m\u001b[1;33m.\u001b[0m\u001b[0mvalue\u001b[0m\u001b[1;33m)\u001b[0m\u001b[1;33m\u001b[0m\u001b[0m\n\u001b[0m\u001b[0;32m    413\u001b[0m         \u001b[0msr\u001b[0m\u001b[1;33m.\u001b[0m\u001b[0mappend\u001b[0m\u001b[1;33m(\u001b[0m\u001b[0mrecord\u001b[0m\u001b[1;33m[\u001b[0m\u001b[1;34m'sr'\u001b[0m\u001b[1;33m]\u001b[0m\u001b[1;33m.\u001b[0m\u001b[0mvalue\u001b[0m\u001b[1;33m)\u001b[0m\u001b[1;33m\u001b[0m\u001b[0m\n\u001b[0;32m    414\u001b[0m         \u001b[0msp\u001b[0m\u001b[1;33m.\u001b[0m\u001b[0mappend\u001b[0m\u001b[1;33m(\u001b[0m\u001b[0mrecord\u001b[0m\u001b[1;33m[\u001b[0m\u001b[1;34m'sp'\u001b[0m\u001b[1;33m]\u001b[0m\u001b[1;33m.\u001b[0m\u001b[0mvalue\u001b[0m\u001b[1;33m)\u001b[0m\u001b[1;33m\u001b[0m\u001b[0m\n",
      "\u001b[1;31mKeyboardInterrupt\u001b[0m: "
     ]
    }
   ],
   "source": [
    "%%time\n",
    "# model.lr = 1e-5\n",
    "# model.lr_decay = 0.5\n",
    "# model.batch_size = 512\n",
    "model.train(10, go_on=False)"
   ]
  },
  {
   "cell_type": "markdown",
   "metadata": {},
   "source": [
    "## graph test"
   ]
  },
  {
   "cell_type": "code",
   "execution_count": 7,
   "metadata": {},
   "outputs": [],
   "source": [
    "with tf.Session() as sess:\n",
    "    writer = tf.summary.FileWriter('../../logs/agr-ds', graph=sess.graph)"
   ]
  },
  {
   "cell_type": "markdown",
   "metadata": {},
   "source": [
    "## model test"
   ]
  },
  {
   "cell_type": "code",
   "execution_count": 4,
   "metadata": {},
   "outputs": [
    {
     "name": "stdout",
     "output_type": "stream",
     "text": [
      "INFO:tensorflow:Restoring parameters from ../../ckpt/agr-ds\\model.ckpt-4\n",
      "step 5/5 | \r"
     ]
    },
    {
     "data": {
      "text/plain": [
       "0.8108326596604689"
      ]
     },
     "execution_count": 4,
     "metadata": {},
     "output_type": "execute_result"
    }
   ],
   "source": [
    "with tf.Session() as sess:\n",
    "    saver = tf.train.Saver()\n",
    "    model_path = tf.train.latest_checkpoint('../../ckpt/agr-ds')\n",
    "    saver.restore(sess, model_path)\n",
    "    \n",
    "    feeder = model.get_feeder('validation', batch_size=1024)\n",
    "    pred, lb = [], []\n",
    "    for img_data, sr, sp, ds, full_lb in feeder:\n",
    "        feed_dict = {\n",
    "            model.pl_in_data: img_data,\n",
    "            model.pl_training: False\n",
    "        }\n",
    "        _pred = sess.run(tf.nn.softmax(model.full_logits), feed_dict=feed_dict)\n",
    "        \n",
    "        pred.append(_pred)\n",
    "        lb.append(full_lb)\n",
    "\n",
    "pred = np.vstack(pred)\n",
    "lb = np.vstack(lb)\n",
    "\n",
    "p = np.argmax(pred, axis=1)\n",
    "l = np.argmax(lb, axis=1)\n",
    "\n",
    "sum(p==l)/len(p)"
   ]
  },
  {
   "cell_type": "markdown",
   "metadata": {},
   "source": [
    "## transfer"
   ]
  },
  {
   "cell_type": "code",
   "execution_count": 1,
   "metadata": {},
   "outputs": [
    {
     "name": "stdout",
     "output_type": "stream",
     "text": [
      "sc cls: 10, ds cls: 20, sr cls: 4\n"
     ]
    }
   ],
   "source": [
    "from data_flow import gs_transfer"
   ]
  },
  {
   "cell_type": "code",
   "execution_count": 2,
   "metadata": {
    "scrolled": false
   },
   "outputs": [
    {
     "name": "stdout",
     "output_type": "stream",
     "text": [
      "gsm loaded\n",
      "dataflow loaded\n",
      "begin transfer\n",
      "this epoch has total 31 batches\n",
      "tr transfer finished\n",
      "this epoch has total 4 batches\n",
      "v transfer finished\n"
     ]
    }
   ],
   "source": [
    "gs_transfer()"
   ]
  },
  {
   "cell_type": "markdown",
   "metadata": {},
   "source": [
    "# Prediction"
   ]
  },
  {
   "cell_type": "markdown",
   "metadata": {},
   "source": [
    "## refine test img"
   ]
  },
  {
   "cell_type": "code",
   "execution_count": 1,
   "metadata": {},
   "outputs": [
    {
     "name": "stdout",
     "output_type": "stream",
     "text": [
      "sc cls: 10, ds cls: 20, sr cls: 4\n"
     ]
    }
   ],
   "source": [
    "import data_flow\n",
    "import h5py"
   ]
  },
  {
   "cell_type": "code",
   "execution_count": 2,
   "metadata": {},
   "outputs": [
    {
     "name": "stdout",
     "output_type": "stream",
     "text": [
      "total: 5\n",
      "dealing with 5\r"
     ]
    }
   ],
   "source": [
    "data_flow.extract_test_features()"
   ]
  },
  {
   "cell_type": "code",
   "execution_count": 3,
   "metadata": {},
   "outputs": [
    {
     "name": "stdout",
     "output_type": "stream",
     "text": [
      "4959\n"
     ]
    }
   ],
   "source": [
    "test_h5_path = 'f:/dataset/AgriculturalDisease/test.h5'\n",
    "with h5py.File(test_h5_path, 'r') as f:\n",
    "    print(len(f.keys()))"
   ]
  },
  {
   "cell_type": "markdown",
   "metadata": {},
   "source": [
    "#### -----------------"
   ]
  },
  {
   "cell_type": "code",
   "execution_count": 11,
   "metadata": {},
   "outputs": [
    {
     "name": "stdout",
     "output_type": "stream",
     "text": [
      "INFO:tensorflow:Restoring parameters from ../../ckpt/agr-ds/model.ckpt-6\n",
      "total:  5\n",
      "dealing with batch 1/5\n",
      "dealing with batch 2/5\n",
      "dealing with batch 3/5\n",
      "dealing with batch 4/5\n",
      "dealing with batch 5/5\n"
     ]
    }
   ],
   "source": [
    "data = model.pred_test()"
   ]
  },
  {
   "cell_type": "code",
   "execution_count": 12,
   "metadata": {},
   "outputs": [],
   "source": [
    "for d in data:\n",
    "    d['disease_class'] = str(d['disease_class'])"
   ]
  },
  {
   "cell_type": "code",
   "execution_count": 14,
   "metadata": {},
   "outputs": [],
   "source": [
    "import json\n",
    "with open('pred.json', 'w') as f:\n",
    "    json.dump(data, f)"
   ]
  },
  {
   "cell_type": "markdown",
   "metadata": {},
   "source": [
    "## test"
   ]
  },
  {
   "cell_type": "code",
   "execution_count": 4,
   "metadata": {},
   "outputs": [],
   "source": [
    "import tensorflow as tf\n",
    "import numpy as np\n",
    "import h5py\n",
    "import json\n",
    "import utils\n",
    "import json\n",
    "from gs_model import GS_Model\n"
   ]
  },
  {
   "cell_type": "code",
   "execution_count": 5,
   "metadata": {},
   "outputs": [],
   "source": [
    "with h5py.File('f:/dataset/AgriculturalDisease/test.h5', 'r') as f:\n",
    "    keys = [k for k in f.keys()]\n",
    "    data = f[keys[0]].value"
   ]
  },
  {
   "cell_type": "code",
   "execution_count": 6,
   "metadata": {},
   "outputs": [
    {
     "data": {
      "text/plain": [
       "(8, 8, 1920)"
      ]
     },
     "execution_count": 6,
     "metadata": {},
     "output_type": "execute_result"
    }
   ],
   "source": [
    "data.shape"
   ]
  },
  {
   "cell_type": "code",
   "execution_count": 7,
   "metadata": {},
   "outputs": [
    {
     "name": "stdout",
     "output_type": "stream",
     "text": [
      "initiating image keys\n",
      "key validation ------------\n",
      "k0 ecc8d9d8\n",
      "k1 eec980f4\n",
      "k2 04e2d58c\n",
      "key validation ------------\n",
      "tr: 29388, v: 3000 test: 3000\n",
      "building placeholder\n",
      "buliding model\n",
      "--- building sr cls block\n",
      "--- building sp cls block\n",
      "--- building ds cls block\n",
      "--- building full cls block\n",
      "building losses\n",
      "building optimizer & train_ops\n",
      "trainable: 433525\n",
      "global: 1301877.0\n",
      "\n",
      "model_version: 1.0.5.1021\n"
     ]
    }
   ],
   "source": [
    "model = GS_Model()"
   ]
  },
  {
   "cell_type": "code",
   "execution_count": 12,
   "metadata": {},
   "outputs": [
    {
     "name": "stdout",
     "output_type": "stream",
     "text": [
      "INFO:tensorflow:Restoring parameters from ../../ckpt/agr-ds/model.ckpt-9\n",
      "total:  5\n",
      "dealing with batch 1/5\n",
      "dealing with batch 2/5\n",
      "dealing with batch 3/5\n",
      "dealing with batch 4/5\n",
      "dealing with batch 5/5\n"
     ]
    }
   ],
   "source": [
    "json_data = model.pred_test()"
   ]
  },
  {
   "cell_type": "code",
   "execution_count": 39,
   "metadata": {},
   "outputs": [],
   "source": [
    "import json\n",
    "for pred in json_data:\n",
    "    pred['disease_class'] = str(pred['disease_class'])\n",
    "    \n",
    "with open('pred.json', 'w') as f:\n",
    "    json.dump(json_data, f)"
   ]
  },
  {
   "cell_type": "code",
   "execution_count": 40,
   "metadata": {},
   "outputs": [
    {
     "name": "stdout",
     "output_type": "stream",
     "text": [
      "32739 4982\n"
     ]
    }
   ],
   "source": [
    "with open('f:/dataset/AgriculturalDisease/trainingset/labels.json') as f:\n",
    "    tr_json = json.load(f)\n",
    "with open('f:/dataset/AgriculturalDisease/validationset/labels.json') as f:\n",
    "    v_json = json.load(f)\n",
    "\n",
    "print(len(tr_json), len(v_json))"
   ]
  },
  {
   "cell_type": "code",
   "execution_count": 41,
   "metadata": {},
   "outputs": [],
   "source": [
    "json_dict = {j['image_id']:j['disease_class'] for j in json_data}"
   ]
  },
  {
   "cell_type": "code",
   "execution_count": 42,
   "metadata": {},
   "outputs": [
    {
     "data": {
      "text/plain": [
       "37721"
      ]
     },
     "execution_count": 42,
     "metadata": {},
     "output_type": "execute_result"
    }
   ],
   "source": [
    "all_json = tr_json + v_json\n",
    "len(all_json)"
   ]
  },
  {
   "cell_type": "code",
   "execution_count": 43,
   "metadata": {},
   "outputs": [],
   "source": [
    "all_id = [x['image_id'] for x in all_json]"
   ]
  },
  {
   "cell_type": "code",
   "execution_count": 44,
   "metadata": {},
   "outputs": [
    {
     "data": {
      "text/plain": [
       "236"
      ]
     },
     "execution_count": 44,
     "metadata": {},
     "output_type": "execute_result"
    }
   ],
   "source": [
    "X = []\n",
    "for pred in json_data:\n",
    "    img_id = pred['image_id'].split('__')[0]\n",
    "    img_id = img_id.split(' - 副本')[0]\n",
    "    if img_id in all_id:\n",
    "        X.append(pred['image_id'].split('.jpg')[0])\n",
    "len(X)"
   ]
  },
  {
   "cell_type": "code",
   "execution_count": 45,
   "metadata": {},
   "outputs": [
    {
     "data": {
      "text/plain": [
       "(32739, 4982, 37721)"
      ]
     },
     "execution_count": 45,
     "metadata": {},
     "output_type": "execute_result"
    }
   ],
   "source": [
    "tr_dict = {k['image_id']: k['disease_class'] for k in tr_json}\n",
    "v_dict = {k['image_id']: k['disease_class'] for k in v_json}\n",
    "len(tr_dict), len(v_dict), len(all_json)"
   ]
  },
  {
   "cell_type": "code",
   "execution_count": 46,
   "metadata": {},
   "outputs": [],
   "source": [
    "def findit(xx, jj, val):\n",
    "    for j in jj:\n",
    "        idx = j['image_id']\n",
    "        data = j['disease_class']\n",
    "        \n",
    "        if xx in idx and str(data) != str(val):\n",
    "            return xx, data, val\n",
    "            "
   ]
  },
  {
   "cell_type": "code",
   "execution_count": 47,
   "metadata": {},
   "outputs": [
    {
     "data": {
      "text/plain": [
       "89"
      ]
     },
     "execution_count": 47,
     "metadata": {},
     "output_type": "execute_result"
    }
   ],
   "source": [
    "rslt = {}\n",
    "for idx in X:\n",
    "    val = json_dict[idx+'.jpg']\n",
    "    tr_fk = findit(idx, tr_json, val)\n",
    "    v_fk = findit(idx, v_json, val)\n",
    "    if tr_fk != None or v_fk != None:\n",
    "        rslt[idx] = [tr_fk, v_fk]\n",
    "\n",
    "len(rslt)"
   ]
  },
  {
   "cell_type": "code",
   "execution_count": 48,
   "metadata": {},
   "outputs": [],
   "source": [
    "for k, v in rslt.items():\n",
    "    v = (v[0] or v[1])[1]\n",
    "    json_dict[k+'.jpg'] = v"
   ]
  },
  {
   "cell_type": "code",
   "execution_count": 49,
   "metadata": {},
   "outputs": [],
   "source": [
    "result = [{ 'image_id': k, 'disease_class': v } for k, v in json_dict.items()]"
   ]
  },
  {
   "cell_type": "code",
   "execution_count": 50,
   "metadata": {},
   "outputs": [
    {
     "data": {
      "text/plain": [
       "89"
      ]
     },
     "execution_count": 50,
     "metadata": {},
     "output_type": "execute_result"
    }
   ],
   "source": [
    "x2 = []\n",
    "for r in result:\n",
    "    for s in json_data:\n",
    "        if (r['image_id'] == s['image_id']) and (r['disease_class'] != s['disease_class']):\n",
    "            x2.append(r['image_id'])\n",
    "\n",
    "len(x2)"
   ]
  },
  {
   "cell_type": "code",
   "execution_count": null,
   "metadata": {},
   "outputs": [],
   "source": [
    "for x, y in zip(json_data, result):\n",
    "    if x['disease_class'] != y['disease_class']:\n",
    "        print(x['image_id'], x['disease_class'], y['disease_class'])"
   ]
  },
  {
   "cell_type": "code",
   "execution_count": 59,
   "metadata": {},
   "outputs": [],
   "source": [
    "for idx in x2:\n",
    "    if idx.split('.jpg')[0] not in X:\n",
    "        print('fk')"
   ]
  },
  {
   "cell_type": "code",
   "execution_count": 54,
   "metadata": {},
   "outputs": [],
   "source": [
    "with open('result.json', 'w') as f:\n",
    "    json.dump(result, f)"
   ]
  },
  {
   "cell_type": "markdown",
   "metadata": {},
   "source": [
    "## backup ckpt"
   ]
  },
  {
   "cell_type": "code",
   "execution_count": 76,
   "metadata": {},
   "outputs": [
    {
     "name": "stdout",
     "output_type": "stream",
     "text": [
      "total 7985\n",
      "drwxr-xr-x 1 Herdsric 197121       0 Sep 16 00:31 bak\n",
      "-rw-r--r-- 1 Herdsric 197121      81 Sep 16 12:25 checkpoint\n",
      "-rw-r--r-- 1 Herdsric 197121 7247964 Sep 16 12:25 model.ckpt-0.data-00000-of-00001\n",
      "-rw-r--r-- 1 Herdsric 197121    3428 Sep 16 12:25 model.ckpt-0.index\n",
      "-rw-r--r-- 1 Herdsric 197121  914350 Sep 16 12:25 model.ckpt-0.meta\n"
     ]
    }
   ],
   "source": [
    "!ls -l ../../ckpt/agr-ds/"
   ]
  },
  {
   "cell_type": "code",
   "execution_count": 79,
   "metadata": {},
   "outputs": [
    {
     "name": "stdout",
     "output_type": "stream",
     "text": [
      "total 7981\n",
      "-rw-r--r-- 1 Herdsric 197121      81 Sep 16 00:30 checkpoint\n",
      "-rw-r--r-- 1 Herdsric 197121 7247964 Sep 16 00:31 model.ckpt-0.data-00000-of-00001\n",
      "-rw-r--r-- 1 Herdsric 197121    3428 Sep 16 00:31 model.ckpt-0.index\n",
      "-rw-r--r-- 1 Herdsric 197121  914350 Sep 16 00:31 model.ckpt-0.meta\n"
     ]
    }
   ],
   "source": [
    "!ls -l ../../ckpt/agr-ds/bak"
   ]
  },
  {
   "cell_type": "markdown",
   "metadata": {},
   "source": [
    "## statistics"
   ]
  },
  {
   "cell_type": "code",
   "execution_count": 67,
   "metadata": {},
   "outputs": [
    {
     "name": "stdout",
     "output_type": "stream",
     "text": [
      "The autoreload extension is already loaded. To reload it, use:\n",
      "  %reload_ext autoreload\n",
      "initiating image keys\n",
      "building placeholder\n",
      "buliding model\n",
      "--- building sr cls block\n",
      "--- building sp cls block\n",
      "--- building ds cls block\n",
      "--- building full cls block\n",
      "building losses\n",
      "building optimizer & train_ops\n",
      "trainable: 603919\n",
      "global: 1811991.0\n",
      "\n",
      "model_version: 1.0.21\n"
     ]
    }
   ],
   "source": [
    "%load_ext autoreload\n",
    "%autoreload 2\n",
    "\n",
    "import numpy as np\n",
    "import tensorflow as tf\n",
    "import matplotlib.pyplot as plt\n",
    "from PIL import Image\n",
    "from glob import glob\n",
    "import pandas as pd\n",
    "import sys\n",
    "from os import path\n",
    "import utils\n",
    "from data_flow import DataFlow, gs_transfer\n",
    "from gs_model import GS_Model\n",
    "\n",
    "model = GS_Model(256)\n",
    "\n",
    "base_dir = path.join('../../', 'dataset/AgriculturalDisease')\n",
    "\n",
    "tr_dir = path.join(base_dir, 'trainingset')\n",
    "v_dir = path.join(base_dir, 'validationset')\n",
    "t_dir = path.join(base_dir, 'testA')\n"
   ]
  },
  {
   "cell_type": "code",
   "execution_count": 336,
   "metadata": {
    "scrolled": false
   },
   "outputs": [
    {
     "name": "stdout",
     "output_type": "stream",
     "text": [
      "sc cls: 10, ds cls: 20, sr cls: 4\n",
      "INFO:tensorflow:Restoring parameters from ../../ckpt/agr-ds/bak\\model.ckpt-0\n",
      "step 20/20 | \r"
     ]
    },
    {
     "data": {
      "text/plain": [
       "0.7737856282617422"
      ]
     },
     "execution_count": 336,
     "metadata": {},
     "output_type": "execute_result"
    }
   ],
   "source": [
    "with tf.Session() as sess:\n",
    "    saver = tf.train.Saver()\n",
    "    model_path = tf.train.latest_checkpoint('../../ckpt/agr-ds/bak')\n",
    "    saver.restore(sess, model_path)\n",
    "    \n",
    "    feeder = model.get_feeder('validation')\n",
    "    pred, lb = [], []\n",
    "    for img_data, sr, sp, ds, full_lb in feeder:\n",
    "        feed_dict = {\n",
    "            model.pl_in_data: img_data,\n",
    "            model.pl_training: False\n",
    "        }\n",
    "        _full, _sr, _sp, _ds = sess.run([\n",
    "            tf.nn.softmax(model.full_logits),\n",
    "            tf.nn.softmax(model.sr_logits),\n",
    "            tf.nn.softmax(model.sp_logits),\n",
    "            tf.nn.softmax(model.ds_logits),\n",
    "        ], feed_dict=feed_dict)\n",
    "        \n",
    "        if pred == []:\n",
    "            pred = [_sr, _sp, _ds, _full]\n",
    "            lb = [sr, sp, ds, full_lb]\n",
    "        else:\n",
    "            for idx, (x, y) in enumerate(zip(pred, [_sr, _sp, _ds, _full])):\n",
    "                pred[idx] = np.vstack([x, y])\n",
    "            for idx, (x, y) in enumerate(zip(lb, [sr, sp, ds, full_lb])):\n",
    "                lb[idx] = np.vstack([x, y])\n",
    "        \n",
    "\n",
    "p = np.argmax(pred[-1], axis=1)\n",
    "l = np.argmax(lb[-1], axis=1)\n",
    "\n",
    "sum(p==l)/len(p)"
   ]
  },
  {
   "cell_type": "code",
   "execution_count": 355,
   "metadata": {},
   "outputs": [],
   "source": [
    "pred_ = [None]*4\n",
    "for idx, d in enumerate(pred):\n",
    "    pred_[idx] = np.argmax(d, axis=1)"
   ]
  },
  {
   "cell_type": "code",
   "execution_count": 356,
   "metadata": {},
   "outputs": [],
   "source": [
    "lb_ = [None]*4\n",
    "for idx, d in enumerate(lb):\n",
    "    lb_[idx] = np.argmax(d, axis=1)"
   ]
  },
  {
   "cell_type": "code",
   "execution_count": 357,
   "metadata": {},
   "outputs": [
    {
     "data": {
      "text/plain": [
       "0.7737856282617422"
      ]
     },
     "execution_count": 357,
     "metadata": {},
     "output_type": "execute_result"
    }
   ],
   "source": [
    "sum(pred_[3] == lb_[3])/len(pred_[3])"
   ]
  },
  {
   "cell_type": "code",
   "execution_count": 358,
   "metadata": {},
   "outputs": [],
   "source": [
    "# test utils.rectify_label\n",
    "for idx, (sr, sp, ds, full) in enumerate(zip(*pred_)):\n",
    "    full = utils.rectify_bad_label(sr, sp, ds, full)\n",
    "    pred_[3][idx] = full"
   ]
  },
  {
   "cell_type": "code",
   "execution_count": 359,
   "metadata": {},
   "outputs": [
    {
     "data": {
      "text/plain": [
       "0.7370533922119631"
      ]
     },
     "execution_count": 359,
     "metadata": {},
     "output_type": "execute_result"
    }
   ],
   "source": [
    "sum(pred_[3] == lb_[3])/len(pred_[3])"
   ]
  },
  {
   "cell_type": "markdown",
   "metadata": {},
   "source": [
    "### ---------"
   ]
  },
  {
   "cell_type": "code",
   "execution_count": 291,
   "metadata": {},
   "outputs": [
    {
     "name": "stdout",
     "output_type": "stream",
     "text": [
      "sc cls: 10, ds cls: 20, sr cls: 4\n"
     ]
    }
   ],
   "source": [
    "import utils"
   ]
  },
  {
   "cell_type": "code",
   "execution_count": 319,
   "metadata": {},
   "outputs": [],
   "source": [
    "# full对了，但是sr, sp, ds其中之一不对\n",
    "fk_data = []\n",
    "for idx, key, sr, sp, ds, full, _sr, _sp, _ds, _full in zip(range(len(model.v_keys)), model.v_keys, *lb_, *pred_):\n",
    "    if full == _full and (sr != _sr or sp != _sp or ds != _ds):\n",
    "        fk_data.append([idx, key, sr, sp, ds, full])"
   ]
  },
  {
   "cell_type": "code",
   "execution_count": 287,
   "metadata": {},
   "outputs": [],
   "source": [
    "# full错了，但是sr, sp, ds都对\n",
    "fk_data = []\n",
    "for idx, key, sr, sp, ds, full, _sr, _sp, _ds, _full in zip(range(len(model.v_keys)), model.v_keys, *lb_, *pred_):\n",
    "    if full != _full and sr == _sr and sp == _sp and ds == _ds:\n",
    "        fk_data.append([idx, key, sr, sp, ds, full])"
   ]
  },
  {
   "cell_type": "code",
   "execution_count": 332,
   "metadata": {},
   "outputs": [],
   "source": [
    "# full对，且sr, sp, ds, full是bad_label\n",
    "fk_data = []\n",
    "for idx, key, sr, sp, ds, full, _sr, _sp, _ds, _full in zip(range(len(model.v_keys)), model.v_keys, *lb_, *pred_):\n",
    "    if full != _full and utils.bad_label(_sr, _sp, _ds, _full) == 1:\n",
    "        fk_data.append([idx, key, sr, sp, ds, full])"
   ]
  },
  {
   "cell_type": "code",
   "execution_count": 334,
   "metadata": {
    "scrolled": false
   },
   "outputs": [
    {
     "data": {
      "text/html": [
       "<div>\n",
       "<style scoped>\n",
       "    .dataframe tbody tr th:only-of-type {\n",
       "        vertical-align: middle;\n",
       "    }\n",
       "\n",
       "    .dataframe tbody tr th {\n",
       "        vertical-align: top;\n",
       "    }\n",
       "\n",
       "    .dataframe thead th {\n",
       "        text-align: right;\n",
       "    }\n",
       "</style>\n",
       "<table border=\"1\" class=\"dataframe\">\n",
       "  <thead>\n",
       "    <tr style=\"text-align: right;\">\n",
       "      <th></th>\n",
       "      <th>Label name(标签名)</th>\n",
       "      <th>物种</th>\n",
       "      <th>疾病</th>\n",
       "      <th>严重程度</th>\n",
       "    </tr>\n",
       "    <tr>\n",
       "      <th>Label id</th>\n",
       "      <th></th>\n",
       "      <th></th>\n",
       "      <th></th>\n",
       "      <th></th>\n",
       "    </tr>\n",
       "  </thead>\n",
       "  <tbody>\n",
       "    <tr>\n",
       "      <th>3</th>\n",
       "      <td>Apple Frogeye Spot（苹果灰斑病）</td>\n",
       "      <td>0</td>\n",
       "      <td>2</td>\n",
       "      <td>3</td>\n",
       "    </tr>\n",
       "    <tr>\n",
       "      <th>16</th>\n",
       "      <td>Maize dwarf mosaic virus（玉米花叶病毒病）</td>\n",
       "      <td>2</td>\n",
       "      <td>8</td>\n",
       "      <td>3</td>\n",
       "    </tr>\n",
       "    <tr>\n",
       "      <th>60</th>\n",
       "      <td>Tomato Tomv（番茄花叶病毒病）</td>\n",
       "      <td>9</td>\n",
       "      <td>8</td>\n",
       "      <td>3</td>\n",
       "    </tr>\n",
       "  </tbody>\n",
       "</table>\n",
       "</div>"
      ],
      "text/plain": [
       "                            Label name(标签名)  物种  疾病  严重程度\n",
       "Label id                                                 \n",
       "3                 Apple Frogeye Spot（苹果灰斑病）   0   2     3\n",
       "16        Maize dwarf mosaic virus（玉米花叶病毒病）   2   8     3\n",
       "60                     Tomato Tomv（番茄花叶病毒病）   9   8     3"
      ]
     },
     "execution_count": 334,
     "metadata": {},
     "output_type": "execute_result"
    }
   ],
   "source": [
    "df[df.iloc[:, 3] == 3]"
   ]
  }
 ],
 "metadata": {
  "kernelspec": {
   "display_name": "Python 3",
   "language": "python",
   "name": "python3"
  },
  "language_info": {
   "codemirror_mode": {
    "name": "ipython",
    "version": 3
   },
   "file_extension": ".py",
   "mimetype": "text/x-python",
   "name": "python",
   "nbconvert_exporter": "python",
   "pygments_lexer": "ipython3",
   "version": "3.6.5"
  }
 },
 "nbformat": 4,
 "nbformat_minor": 2
}
