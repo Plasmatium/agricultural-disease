{
 "cells": [
  {
   "cell_type": "code",
   "execution_count": 1,
   "metadata": {},
   "outputs": [],
   "source": [
    "import tensorflow as tf"
   ]
  },
  {
   "cell_type": "code",
   "execution_count": 2,
   "metadata": {},
   "outputs": [],
   "source": [
    "tf.reset_default_graph()\n",
    "model = tf.keras.applications.ResNet50(input_shape=[256, 256, 3], include_top=False)"
   ]
  },
  {
   "cell_type": "code",
   "execution_count": 3,
   "metadata": {},
   "outputs": [
    {
     "name": "stdout",
     "output_type": "stream",
     "text": [
      "sc cls: 10, ds cls: 20, sr cls: 4\n"
     ]
    }
   ],
   "source": [
    "import utils"
   ]
  },
  {
   "cell_type": "code",
   "execution_count": 4,
   "metadata": {},
   "outputs": [
    {
     "name": "stdout",
     "output_type": "stream",
     "text": [
      "trainable: 23534592\n",
      "global: 23587712\n"
     ]
    }
   ],
   "source": [
    "utils.show_params_scale()"
   ]
  },
  {
   "cell_type": "code",
   "execution_count": 5,
   "metadata": {},
   "outputs": [
    {
     "data": {
      "text/plain": [
       "<tf.Tensor 'avg_pool/AvgPool:0' shape=(?, 1, 1, 2048) dtype=float32>"
      ]
     },
     "execution_count": 5,
     "metadata": {},
     "output_type": "execute_result"
    }
   ],
   "source": [
    "model.output"
   ]
  },
  {
   "cell_type": "code",
   "execution_count": 5,
   "metadata": {},
   "outputs": [],
   "source": [
    "from glob import glob"
   ]
  },
  {
   "cell_type": "code",
   "execution_count": 6,
   "metadata": {},
   "outputs": [],
   "source": [
    "import json"
   ]
  },
  {
   "cell_type": "code",
   "execution_count": 7,
   "metadata": {},
   "outputs": [],
   "source": [
    "with open('f:/dataset/AgriculturalDisease/trainingset/labels.json') as f:\n",
    "    tr_j = json.load(f)"
   ]
  },
  {
   "cell_type": "code",
   "execution_count": 8,
   "metadata": {},
   "outputs": [],
   "source": [
    "with open('f:/dataset/AgriculturalDisease/validationset/labels.json') as f:\n",
    "    v_j = json.load(f)"
   ]
  },
  {
   "cell_type": "code",
   "execution_count": 14,
   "metadata": {},
   "outputs": [],
   "source": [
    "strj = set([j['image_id'] for j in tr_j])"
   ]
  },
  {
   "cell_type": "code",
   "execution_count": 15,
   "metadata": {},
   "outputs": [],
   "source": [
    "svj = set([j['image_id'] for j in v_j])"
   ]
  },
  {
   "cell_type": "code",
   "execution_count": 18,
   "metadata": {},
   "outputs": [
    {
     "data": {
      "text/plain": [
       "37721"
      ]
     },
     "execution_count": 18,
     "metadata": {},
     "output_type": "execute_result"
    }
   ],
   "source": [
    "len(strj) + len(svj)"
   ]
  },
  {
   "cell_type": "code",
   "execution_count": 17,
   "metadata": {},
   "outputs": [
    {
     "data": {
      "text/plain": [
       "37388"
      ]
     },
     "execution_count": 17,
     "metadata": {},
     "output_type": "execute_result"
    }
   ],
   "source": [
    "len(strj.union(svj))"
   ]
  },
  {
   "cell_type": "code",
   "execution_count": 19,
   "metadata": {},
   "outputs": [
    {
     "data": {
      "text/plain": [
       "32739"
      ]
     },
     "execution_count": 19,
     "metadata": {},
     "output_type": "execute_result"
    }
   ],
   "source": [
    "len(strj)"
   ]
  },
  {
   "cell_type": "code",
   "execution_count": 20,
   "metadata": {},
   "outputs": [
    {
     "data": {
      "text/plain": [
       "4982"
      ]
     },
     "execution_count": 20,
     "metadata": {},
     "output_type": "execute_result"
    }
   ],
   "source": [
    "len(svj)"
   ]
  },
  {
   "cell_type": "code",
   "execution_count": 22,
   "metadata": {},
   "outputs": [],
   "source": [
    "aaa = strj.intersection(svj)"
   ]
  },
  {
   "cell_type": "code",
   "execution_count": 23,
   "metadata": {},
   "outputs": [],
   "source": [
    "tr_jd = { x['image_id']: x['disease_class'] for x in tr_j }"
   ]
  },
  {
   "cell_type": "code",
   "execution_count": 24,
   "metadata": {},
   "outputs": [],
   "source": [
    "v_jd = { x['image_id']: x['disease_class'] for x in v_j }"
   ]
  },
  {
   "cell_type": "code",
   "execution_count": 36,
   "metadata": {
    "collapsed": true
   },
   "outputs": [
    {
     "name": "stdout",
     "output_type": "stream",
     "text": [
      "45 52 1e0582c9-3b55-4aaf-b63b-f223c13eac86___GCREC_Bact.Sp 5571.JPG\n",
      "25 26 2b586ece-09e0-457e-afe4-6e7fa1022f59___CREC_HLB 7573.JPG\n",
      "52 44 68f61e1eeda6c225a76fa3900302fc84.jpg\n",
      "53 45 450c2f14-597d-45b9-9796-c80e4fbdb114___GCREC_Bact.Sp 6117.JPG\n",
      "8 7 728525fd-75a3-4356-a7b4-34d56c31e12b___FREC_Pwd.M 4857.JPG\n",
      "52 45 cc4ae662-c07c-4aae-8868-f4711ae5d158___GCREC_Bact.Sp 3852.JPG\n",
      "45 53 a2b9fd44-1a96-40ea-9c22-e46121316355___UF.GRC_BS_Lab Leaf 8664.JPG\n",
      "25 26 0c30da21-a0d4-4363-bd14-e4f92af4571d___UF.Citrus_HLB_Lab 1377.JPG\n",
      "44 52 3ddfcbcd59fe723234822cb503e4440f.jpg\n",
      "44 52 793c4393-0e98-4de2-bbb2-eb0c8412a959___GCREC_Bact.Sp 5621.JPG\n",
      "53 45 5d7ce899f7929434d3d72e8d639828ac.jpg\n",
      "52 44 84746124bb350089affb332e667c6f2c.jpg\n",
      "53 45 1695eefb-cffc-4dac-b7ae-40f34ad9c5db___GCREC_Bact.Sp 3065.JPG\n",
      "44 52 c4092556be209349cae751ef18f57b0b.jpg\n",
      "44 52 4e77206fd45ed15138dc3850fe7fc50f.jpg\n",
      "44 52 60c284683e899bed2a71d21d9bacabf4.jpg\n",
      "45 53 25a8ea2f-8337-4b4b-8e2d-2110ee2b89ff___GCREC_Bact.Sp 5688.JPG\n",
      "53 45 136d4a412c66109c8cd73ba162ec6d55.jpg\n",
      "44 52 a65fa9c39f8bc6d3249a5a0f347f9af6.jpg\n",
      "52 44 a4d6b6caded162919c206938a800e954.jpg\n",
      "44 52 e2db87abac8cb6ca2addff8db5a9ecf7.jpg\n",
      "52 44 3cda76514d9635761f2c5c06f01a2222.jpg\n",
      "53 45 d071e15a4287a03cf14ac3f3aeb42d4b.jpg\n",
      "26 25 0ea1f41f-c970-4c51-9a8e-7ebaa9a3084a___CREC_HLB 4066.JPG\n",
      "26 25 e6f65a8f-0f24-43a4-97b3-8cf6084691fe___CREC_HLB 7237.JPG\n",
      "45 53 728e65f889819c79f9a734b840489d3f.jpg\n",
      "52 44 d0ac091cc85e8ddc098facbf4d80d6a2.jpg\n",
      "45 53 cf88109376b6b75323cc43539b2dec2b.jpg\n",
      "53 45 2b0aeb22141909e44ef35328a46f5c72.jpg\n",
      "45 53 da80d96032dee0122eacefed2f28948b.jpg\n",
      "52 45 c7fc1301-46d2-4474-8814-b3c29a719b57___GCREC_Bact.Sp 6241.JPG\n",
      "45 53 191ae7fa-8ca5-4654-a01d-c4f497bb7377___UF.GRC_BS_Lab Leaf 0615.JPG\n",
      "26 25 0f3d1946-dcde-4466-9907-46ddf6c11f9e___UF.Citrus_HLB_Lab 1601.JPG\n",
      "45 53 21218af849fb0748599e9ffc671cb6a2.jpg\n",
      "52 44 1ff93f22-ad6e-4c74-a677-90e88d1b93df___GCREC_Bact.Sp 3532.JPG\n",
      "44 52 a04e5c65-ae00-495e-b732-6c7030e32fc1___GCREC_Bact.Sp 2962.JPG\n",
      "52 44 db96613d2254c8f2ee98f83b3b04cfa9.jpg\n",
      "52 44 45d329970f4a0f9993b49eda32d0d07b.jpg\n",
      "52 44 225a427b-3e65-45fc-aaa4-1210fb81c20e___GCREC_Bact.Sp 3457.JPG\n",
      "45 53 41128d1d-2a43-4c08-a100-c92c2fc8b9b0___GCREC_Bact.Sp 3413.JPG\n",
      "7 8 03132cd9-1649-4de0-aa41-de6eb60d4878___FREC_Pwd.M 0372.JPG\n",
      "53 45 613d2aaf-3f77-498f-abf2-8519cc595bbe___GCREC_Bact.Sp 5925.JPG\n",
      "45 53 7abaa8eb148b1950fa40a1ee60f36d3d.jpg\n",
      "44 52 4c5ce1ce4c9815858f633144d84fe9bd.jpg\n",
      "25 26 4a04dee2-37b8-4113-8f60-0b0929c4b812___CREC_HLB 4852.JPG\n",
      "45 53 db1ef89c102ad5393897818149c820dd.jpg\n",
      "44 52 056f79c645c22301d58c1e50312f0d25.jpg\n",
      "45 53 fa80a77b48f9e44ba579256ececab6c5.jpg\n",
      "52 44 e7c5c7fcda6dd40c1e8c7e49f6780a2d.jpg\n",
      "52 44 d4611a5100de96d3474a2f683cb89aa0.jpg\n",
      "44 52 a8cd5b0dfe2c396d31c3952226f83bc8.jpg\n",
      "45 53 2593c1222ca4d6addc5374231e3969ec.jpg\n",
      "8 7 e97b9522-a04c-4b63-9062-8b857022509d___FREC_Pwd.M 0544.JPG\n",
      "44 52 d7f58a58722fc7ead61657223fa6f633.jpg\n",
      "45 53 c5274e21407e649b43f63026638bc465.jpg\n",
      "26 25 5c15b11d-3577-4596-8439-9680070f65cc___CREC_HLB 6758.JPG\n",
      "53 45 a637eb22dd6c2297b55c483333a37d60.jpg\n",
      "44 52 a7c5d9df-0031-4f8d-8ba3-629353956a97___GCREC_Bact.Sp 5991.JPG\n",
      "26 25 8e69e09b-1a5e-476b-9780-ce705a004525___UF.Citrus_HLB_Lab 1311.JPG\n",
      "53 45 9b1443e6-25d0-4dbb-a3f4-b586d7cce49f___UF.GRC_BS_Lab Leaf 8769.JPG\n",
      "45 53 d707ecc4-8ccf-4373-8d0f-ccf4a5f9fa2d___UF.GRC_BS_Lab Leaf 9171.JPG\n",
      "20 21 4821a16516e5d75a9dda963023d25360.jpg\n",
      "53 45 c1ca97a3-0701-4d1b-ab77-0a1d018d7886___GCREC_Bact.Sp 5609.JPG\n",
      "44 52 9579c6c6-2bd1-4bd9-ba38-22791662a30e___GCREC_Bact.Sp 3544.JPG\n",
      "44 52 ec5347b76b4cfbd4337cf2f71d765338.jpg\n",
      "52 44 b8e606e2-0630-453f-8688-b4350feb2bce___GCREC_Bact.Sp 3033.JPG\n",
      "45 53 df81592f5d629929440ccce33575479c.jpg\n",
      "44 52 494564207b56cf837f10f902e98b5b25.jpg\n",
      "52 44 a7afc4b99542f1bfdde71296780344c0.jpg\n",
      "7 8 8bdd0a9b-df18-4587-a4ac-09a7cf651d54___FREC_Pwd.M 0377.JPG\n",
      "44 52 1664fff5-8d2e-4615-a448-2dd093c0df82___GCREC_Bact.Sp 3290.JPG\n",
      "53 45 43569aaa0b0a58ca0d684070555a94f3.jpg\n",
      "44 52 70ed1559-2269-4ace-a69c-8fb255ccc2ba___GCREC_Bact.Sp 3030.JPG\n",
      "44 52 3156f2fa-aa71-4759-8af0-960188c68519___GCREC_Bact.Sp 3235.JPG\n",
      "52 44 aabc0838-428f-46d6-b869-fabfc687cb16___GCREC_Bact.Sp 5630.JPG\n",
      "52 44 07282bf5cd054804d7167a1235299e0e.jpg\n",
      "44 52 a9081e18-5a97-428a-af5d-6788d430d152___GCREC_Bact.Sp 3347.JPG\n",
      "45 53 3f369fd24d8bb51a8f4e2a1d7dab329f.jpg\n",
      "8 7 870231af-5ab9-4bb9-8892-347dabf2cb9d___FREC_Pwd.M 5044.JPG\n",
      "45 52 cb2560da14647c02276493d548327097.jpg\n",
      "25 26 0a1643d9-675e-42b1-8368-98a3a6f06a40___CREC_HLB 5617.JPG\n",
      "52 45 cfd1650b-7007-4916-a41f-9587d4bc4bfa___GCREC_Bact.Sp 5568.JPG\n",
      "52 44 d0485df359af84b4d73f62b6c34819ad.jpg\n",
      "53 45 162156e8-724a-48d9-8a19-904937f9dc03___GCREC_Bact.Sp 3472.JPG\n",
      "7 8 d93937f9-8e84-4fcb-8b72-1b1199db7d6e___FREC_Pwd.M 0546.JPG\n",
      "45 52 30caf9f1-d21d-449a-a534-e29316b7a020___GCREC_Bact.Sp 5876.JPG\n",
      "52 44 542e3014-3c3c-40c2-bf7e-73287f5302e4___GCREC_Bact.Sp 3157.JPG\n",
      "44 52 cd1ea350b115c84c287a84dba470c56f.jpg\n",
      "44 52 bceaea5d611924b5ffda7f09a27a6a04.jpg\n",
      "52 45 135643ad430a1f22c01a625ec7b23884.jpg\n",
      "52 44 5923581b-ce89-4844-bd6a-8e4826b8b059___GCREC_Bact.Sp 3234.JPG\n",
      "8 7 15042e84-a171-479d-adb4-18c579b6a211___FREC_Pwd.M 5095.JPG\n",
      "8 7 beea0c7e-0e13-4852-ac62-4f393c51c9e0___FREC_Pwd.M 4941.JPG\n",
      "45 53 7eb976bd-5203-44c2-85ab-f27a5852a7db___GCREC_Bact.Sp 3360.JPG\n",
      "52 44 ca342914486845ad95c22cdb60c61f92.jpg\n",
      "25 26 e2879aa5-ecf8-4f36-963e-a51ce69c19d6___UF.Citrus_HLB_Lab 0754.JPG\n",
      "45 53 92c3b3aa61ceb6a6f11d1dfccb5d5646.jpg\n",
      "44 52 3758f109c1f6389f67b1fb595d05cb6b.jpg\n",
      "45 52 90fa8cf2-fc80-4944-9484-7cd6bb6cc1da___GCREC_Bact.Sp 5767.JPG\n",
      "26 25 7a185f5c-1b88-4822-b16e-5f60997817ec___CREC_HLB 4667.JPG\n",
      "44 52 88cb990c-385b-4d79-89f4-f1a8698a2845___GCREC_Bact.Sp 5576.JPG\n",
      "44 52 cbbb4f7c-382f-420e-a1c8-e919af9497a7___GCREC_Bact.Sp 3192.JPG\n",
      "7 8 8af92c46-f8c4-4b63-a9db-8718f2ac1dd4___FREC_Pwd.M 0438.JPG\n",
      "44 52 a554c4d2-6eb9-438f-ae54-9477b0428ddf___GCREC_Bact.Sp 5570.JPG\n",
      "44 52 c143e9f80aacf6f1e5047c7a4d6fb8c9.jpg\n",
      "52 45 2a7b80f9-bd15-42cf-aab5-699232ee1506___GCREC_Bact.Sp 6317.JPG\n",
      "26 25 1e1ac03c-2204-4974-9fba-6c44646f67b0___CREC_HLB 6594.JPG\n",
      "8 7 093d5f5b-f724-457e-b354-7f74b07cba64___FREC_Pwd.M 5078.JPG\n",
      "45 53 d5c1bacf-5e76-4332-bdd4-bf18eb7ea58e___UF.GRC_BS_Lab Leaf 8633.JPG\n",
      "52 44 da27e7ebb09495b216996920a7ed223c.jpg\n",
      "8 7 da2dd4af-37c1-4951-8fd3-e869cd3007b9___FREC_Pwd.M 4976.JPG\n",
      "52 44 1528f62a9ff9fe67f707a097c2a312e1.jpg\n",
      "25 26 0c834bd1-590d-49bd-b51f-e0ee8c257f99___CREC_HLB 4298.JPG\n",
      "44 52 f2ead545c15d977309772df668d69abd.jpg\n",
      "8 7 2d356a28-26fe-45e9-8f3d-d65c7a5be236___FREC_Pwd.M 0420.JPG\n",
      "45 53 da5538b9b36365e93bcdb013172094bd.jpg\n",
      "53 45 5a198510-9f1e-4699-b747-d0b1c0892756___UF.GRC_BS_Lab Leaf 0768.JPG\n",
      "53 45 dfc06cd2-243e-4704-ba23-a23a4ed02ca3___UF.GRC_BS_Lab Leaf 1035.JPG\n",
      "53 45 3c4ef113451027dd338e7766ac20cb33.jpg\n",
      "44 52 1e2714c6a3a75604bef9bf28cb012625.jpg\n",
      "44 52 01e079ba-939a-4681-8983-db663f4a859b___GCREC_Bact.Sp 3029.JPG\n",
      "25 26 3ea366e1-7193-4712-9abe-ddbb04df7517___CREC_HLB 5270.JPG\n",
      "44 52 02626a44-a613-4402-a6b0-243858736e32___GCREC_Bact.Sp 3191.JPG\n",
      "44 52 0809f630-10f6-48b4-9aa2-6c08852aa83a___GCREC_Bact.Sp 5626.JPG\n",
      "52 44 081b70a678d335ad973169842039533c.jpg\n",
      "44 52 f68ca201c14878c284329c2566ac11f4.jpg\n",
      "52 45 5855b40db4b08e2a88c6cfa1bfa2e3d4.jpg\n",
      "53 45 9be12ff4-ce19-4681-80ec-bc21543a74af___GCREC_Bact.Sp 3318.JPG\n",
      "45 53 e4e11751-2c64-491f-9aa3-26677932f65c___UF.GRC_BS_Lab Leaf 0636.JPG\n",
      "44 52 822e2ff3-34d5-4634-b82e-2d5cc16c1485___GCREC_Bact.Sp 5990.JPG\n",
      "52 44 5956ff4da6913789b1158538554cbbe7.jpg\n",
      "52 44 5dd5671a93873c36856875af10e7f64c.jpg\n",
      "45 53 b8eae33d-0b5a-45c0-a926-001512a72db1___UF.GRC_BS_Lab Leaf 0611.JPG\n",
      "8 7 21b85757-b8ee-4165-9380-ebeade7f3ab7___FREC_Pwd.M 4978.JPG\n",
      "53 45 16912266-6a1b-426c-9e58-2f0ff1a4e35a___UF.GRC_BS_Lab Leaf 8673.JPG\n",
      "53 45 82aa438d-e17c-4756-8464-59d8c49497e9___GCREC_Bact.Sp 3245.JPG\n",
      "45 53 eab42f59d4b6e3ef4bfa0c744823d749.jpg\n",
      "52 44 55e1f45df0ccfb517df70a516f5da718.jpg\n",
      "25 26 0a15df5c-6d69-4859-8ce3-995eee9acac9___CREC_HLB 7431.JPG\n",
      "44 52 ca806ab02556236f95486492515b00fc.jpg\n",
      "53 45 93725854-5d37-48e9-872d-64c38f0462b1___UF.GRC_BS_Lab Leaf 0940.JPG\n",
      "45 53 abe7d67f1d60946a5495e08d16916d01.jpg\n",
      "44 52 bbc5edd4d2e68a70e5821d83abe86d16.jpg\n",
      "26 25 4f9e3636-62d5-41e6-8a96-0d562a10bbb5___CREC_HLB 4420.JPG\n",
      "52 44 b90cb55e-b1fb-47b5-90f9-543845814e68___GCREC_Bact.Sp 6029.JPG\n",
      "52 44 2a3f8506c6c686cd7069ce956a12643a.jpg\n",
      "53 45 a2591a35-c7ed-4115-9ce5-45fb655cab8a___GCREC_Bact.Sp 6294.JPG\n",
      "44 52 c24f34754a760191fe12a8a2a477dc20.jpg\n",
      "45 52 0d227915-443b-402c-8a25-cc43434c4bb0___GCREC_Bact.Sp 5913.JPG\n",
      "52 44 58713d5a4cdf742b0e9b1fdc35bb1ce4.jpg\n",
      "53 45 f50a120a522dc93f061d9e3b039bcec7.jpg\n",
      "45 53 67b11dd7-7d7e-4214-85c4-e7675539251d___GCREC_Bact.Sp 3728.JPG\n",
      "52 44 47f5a17e72079735a886ba9225efad39.jpg\n",
      "52 44 c2da554897196e2a7b3f7610d2292a1f.jpg\n",
      "53 45 0ac8c80f-6d67-46ee-b662-8265d9df9183___GCREC_Bact.Sp 6115.JPG\n",
      "45 53 5be5dbeeb3633f177e4a05cbde8ff33b.jpg\n",
      "52 45 593c2769ffb4bad1a931f910f99f314c.jpg\n",
      "25 26 e6d7a72e-d582-4e2c-9dd4-84b27b447790___UF.Citrus_HLB_Lab 0086.JPG\n",
      "52 44 178afa1e4eb284b33457c0d51ab58d5a.jpg\n",
      "52 44 0abe2fe924b472e15137e39fd636ebd0.jpg\n",
      "53 45 d336c5781af5cc6078ecd3cd1859d48f.jpg\n",
      "44 52 94872d9a6ef6f9b5c1b48e4ef2694702.jpg\n",
      "44 52 5c0765db-6fdc-45f1-b714-1f6906856761___GCREC_Bact.Sp 5736.JPG\n",
      "44 52 734ffc0e189330c9db3d34c1e7af361c.jpg\n",
      "52 44 5c973c59-c8da-4a3a-bd99-a645d0f83936___GCREC_Bact.Sp 6362.JPG\n",
      "52 44 86dc2636f2d9322fe4e07094a52a43bb.jpg\n",
      "53 45 360bc54aa8b33c3940ec26aa148e35be.jpg\n",
      "53 45 541eaa7a-3967-4c6a-8a5d-4c9a1ad1881d___UF.GRC_BS_Lab Leaf 9240.JPG\n",
      "45 53 13777621dead978bfb78c5a076f424dd.jpg\n",
      "44 53 a7059350-86ef-4cc0-935d-c9cb678380cd___GCREC_Bact.Sp 6392.JPG\n",
      "52 44 7f4bdfa1-5d50-476f-9e79-1dbe00572974___GCREC_Bact.Sp 3004.JPG\n",
      "44 52 c98dda1b8bfd426d2ef08e499532b635.jpg\n",
      "53 45 cee4d39127eb739426d1b938150c262f.jpg\n",
      "52 44 e59a54d3-77fa-4547-8ba6-cc5ee7b0591a___GCREC_Bact.Sp 3827.JPG\n",
      "52 44 2290365c-ec97-46fb-bc6c-51395d458821___GCREC_Bact.Sp 5937.JPG\n",
      "45 53 66366ae7bcf903896adb0ea76e0b6a42.jpg\n",
      "45 53 7ca28666-9325-4718-b10f-44d0fcd03a85___UF.GRC_BS_Lab Leaf 0807.JPG\n",
      "7 8 405685ad-41e4-4bca-b1ca-f7464141c46e___FREC_Pwd.M 0321.JPG\n",
      "52 44 1270df808369b445df9ddfe28d7a0106.jpg\n",
      "26 25 e3e5006d-db99-44a9-bea2-96aafc6e2bb4___UF.Citrus_HLB_Lab 1764.JPG\n",
      "8 7 bf5d1d44-32b5-4e50-8bac-a2db6855ab61___FREC_Pwd.M 5129.JPG\n",
      "44 52 2fb584bfebc119bcb18bd11f911ff12e.jpg\n",
      "52 44 3b2880416f58ba60e0b27ea83a0915eb.jpg\n",
      "53 45 29a61150-5453-4a76-88eb-2e97a8f4c400___GCREC_Bact.Sp 6345.JPG\n",
      "45 52 e828dcaa3713b59288d47e95c0b0d84e.jpg\n",
      "45 53 afd78d63-13b3-400f-8e9a-1c87f27fa12f___UF.GRC_BS_Lab Leaf 0239.JPG\n",
      "53 45 d51854db10c24f95407549ac4733a0e3.jpg\n",
      "44 52 e6ec0aa5-a195-4606-a539-cf7c13f62727___GCREC_Bact.Sp 3828.JPG\n",
      "52 44 1c213d89-a3ba-4486-ac5a-1744eb371859___GCREC_Bact.Sp 3500.JPG\n",
      "45 53 a5cf75e8698faf8e0622b3074a485d9b.jpg\n",
      "53 45 ab66cbe8-486a-4f26-8253-7c12729fcbec___GCREC_Bact.Sp 3361.JPG\n",
      "52 44 a8a3dd0c-7729-46bb-87f9-23c2345e955a___GCREC_Bact.Sp 5703.JPG\n",
      "7 8 dc06d560-e913-4f2f-adb9-7fe0ab5b5a92___FREC_Pwd.M 4580.JPG\n",
      "52 44 14b9bfd79c5b776713253c2708b9c86e.jpg\n",
      "7 8 3531b280-cdf5-4983-b83e-21259674d575___FREC_Pwd.M 4907.JPG\n",
      "45 53 376611b05cc4395e7a4155aa1605de0b.jpg\n",
      "52 44 c0e3fc41-4d61-4a2d-a1e0-f5d658803182___GCREC_Bact.Sp 5975.JPG\n",
      "52 44 c5d53dcaa0783999b0a320eea8152179.jpg\n",
      "52 44 832d60006a869f04d8db9dbd0857a735.jpg\n",
      "52 44 d0ce6851-bf97-4410-94f3-ccdcddd2a0fe___GCREC_Bact.Sp 3424.JPG\n",
      "52 44 2e2a791ffc1bcd4020e2c423a48f2c0e.jpg\n",
      "25 26 1a17402a-fff5-49a7-aa74-a615afc2e38c___CREC_HLB 4221.JPG\n",
      "45 52 24dded2bc2b284b1b277e28e59f54774.jpg\n",
      "45 53 fb14e27356772ae24cb21d15d5bec258.jpg\n",
      "53 45 52ca9334-9911-476d-a130-f44e033aeda1___UF.GRC_BS_Lab Leaf 0244.JPG\n",
      "44 52 4205bddd9cf0bd68fb4f9f644db2a40e.jpg\n",
      "53 45 a6387ef1-52bc-4596-a3a4-e0b8c3c46708___GCREC_Bact.Sp 6272.JPG\n",
      "45 53 e0aecb9ddcf2db5b91053b624a798430.jpg\n",
      "53 45 365b9e42-fc7d-4805-8737-dd51f26a2468___GCREC_Bact.Sp 3256.JPG\n",
      "26 25 7eddee09-03b2-4758-b219-ee89a505993c___UF.Citrus_HLB_Lab 1659.JPG\n",
      "20 21 8daffa5b4edcea98b2d701ee498d5d51.jpg\n",
      "52 44 39d2634e-789c-4fdb-bbe7-1c03e04d91b8___GCREC_Bact.Sp 5763.JPG\n",
      "45 52 4964721145df0a2db2b21acdc961838d.jpg\n",
      "52 45 c3b8f37cb071ce1d99fe107e60b9be62.jpg\n",
      "8 7 096c6145-3976-48f3-8d14-54b16af6975f___FREC_Pwd.M 5153.JPG\n",
      "45 53 435f44692b7c202349411fdcd8858e4c.jpg\n",
      "45 53 37d9751a-27aa-4771-a131-5411a43028f5___GCREC_Bact.Sp 3470.JPG\n",
      "52 44 9920ea08-d9d7-464c-addb-c6ecebddf420___GCREC_Bact.Sp 5880.JPG\n",
      "52 44 67db77fe08eef608e48f1a4ed3ad82d2.jpg\n",
      "44 52 45e47cab-d129-497f-ba97-ab2a2ed62f5c___GCREC_Bact.Sp 2948.JPG\n",
      "26 25 df5d63fb-d270-459b-9798-ad680374ad1a___UF.Citrus_HLB_Lab 1668.JPG\n",
      "52 44 3892e5a6e261b738f3481a8ae7122db4.jpg\n",
      "53 45 a87c0cb6706a7a350c384ce8c7b581f1.jpg\n",
      "44 52 7aca415ec08a8c13fd857b6ac9b257ab.jpg\n",
      "8 7 fae0ccf9-efd8-47c2-af4d-77a13740e172___FREC_Pwd.M 4779.JPG\n",
      "45 53 a75edffc-d484-41ea-adb2-8808748a53db___GCREC_Bact.Sp 5608.JPG\n",
      "53 45 79c394e7-b18a-4f3a-afbb-6d41bdf55660___GCREC_Bact.Sp 3062.JPG\n",
      "53 45 09442ca2-e279-4937-8ba0-faa85901f199___GCREC_Bact.Sp 5643.JPG\n",
      "44 52 badeca64-87ed-439a-b373-b4b872dbe173___GCREC_Bact.Sp 6219.JPG\n",
      "44 52 7ab0b3abb51380401c0e3358a03a59d5.jpg\n",
      "8 7 ab79b5ac-9d44-42c8-a745-25cca89aed90___FREC_Pwd.M 4925.JPG\n",
      "44 52 e05a59b9b4c230432ba6d14be936a961.jpg\n",
      "45 53 78095b578d1dea93ae316a44a6a17e65.jpg\n",
      "8 7 1ed7d523-d881-4db0-8323-8bed7bf48696___FREC_Pwd.M 0306.JPG\n",
      "15 14 1c774cba263d6739cb90a0383a1efe01 - 副本.jpg\n",
      "52 44 2a2d11a9-e334-491f-8d43-66320cd26010___GCREC_Bact.Sp 6124.JPG\n",
      "52 44 331bf1809677be9a64f0e0c6c06bce2b.jpg\n",
      "53 44 c992736816d42c70716352c4f5c5227e.jpg\n",
      "44 52 bfe53ddcadb09cb9d055cfd214018e8e.jpg\n",
      "44 53 bcfafe5b52ff1a4534c8877b4cca0ee5.jpg\n",
      "53 45 bd6db472ba5e51bbb4917a786efe95fb.jpg\n",
      "25 26 6ccdf7be-9069-452d-ab04-6ee817b74fbb___CREC_HLB 7117.JPG\n",
      "44 52 b707af8e153e4b8ec99e674062491857.jpg\n",
      "44 52 5f9e5b0fdab896b99d84af78f6b5ca7b.jpg\n",
      "25 26 fa676515-8de9-477a-8e2d-48189157b691___UF.Citrus_HLB_Lab 0907.JPG\n",
      "44 52 eb4b90e8eaa40a9ccaa1d701e1736a19.jpg\n",
      "53 45 77240aeb-e455-4062-907c-43be7bac78b9___GCREC_Bact.Sp 5964.JPG\n",
      "45 53 bd04ec59e405e455854544168e942b0f.jpg\n",
      "44 52 069396a63746a7f2a2d89903fef08885.jpg\n",
      "44 52 ae5d19cb78e673a5c150efcf1760cb94.jpg\n",
      "26 25 5d8bc662-a4e9-4280-98d4-f0715cb7290c___CREC_HLB 5269.JPG\n",
      "52 44 96d9a0c8ac3e81135368b6f256e712c1.jpg\n",
      "53 45 42da8d77b9574e52abc42781cd634a8a.jpg\n",
      "45 53 bfd9caac-aa4c-4be2-91be-23f2ee32da9f___GCREC_Bact.Sp 5776.JPG\n",
      "8 7 7665ae36-28ec-4350-9798-89b4a32e32a8___FREC_Pwd.M 5124.JPG\n",
      "53 45 538b69f4-6f98-4bd6-8da7-8f8448c8731b___GCREC_Bact.Sp 5775.JPG\n",
      "8 7 46713371-70e1-4a42-9537-5781e602c174___FREC_Pwd.M 0384.JPG\n",
      "45 53 bd6210e0cadc275af6a07aed89b842a1.jpg\n",
      "53 45 dd6e2b14-f790-452a-b810-a667064a8699___GCREC_Bact.Sp 5632.JPG\n",
      "44 52 7e50409f20de187d99df74c08eee2210.jpg\n",
      "53 45 2c903f07dddadf962ac62404a8ce2876.jpg\n",
      "53 45 b29993ed-4d96-499b-ad36-379fda20c9c7___UF.GRC_BS_Lab Leaf 8843.JPG\n",
      "44 52 2beb159560c771408882b5947d0f7cfb.jpg\n",
      "52 44 1b3ccbf3-c1e1-476e-b34a-6af0a6fbb349___GCREC_Bact.Sp 3735.JPG\n",
      "52 44 b0827469-6ac0-4a9e-baca-ac4763b00f95___GCREC_Bact.Sp 5866.JPG\n",
      "45 52 09b14813997777f84b81454165bd176e.jpg\n",
      "53 45 dfcda4a05a8ddd8a68ca71becd40ade5.jpg\n",
      "52 45 ae59ca2a-8b8f-490e-af40-a2a1e1963126___GCREC_Bact.Sp 6116.JPG\n",
      "53 45 f03914f2a99821d0ae1f21bf06cfcdc8.jpg\n",
      "52 45 ae5405b96793727f1aa46a92eb56b84f.jpg\n",
      "45 53 05c833b3b10faddfbb56b9559c8981db.jpg\n",
      "44 52 7a5030ef6a1e2be188db18adfba826b0.jpg\n",
      "44 52 30bfa41eb914e4ea8861a4caf74f3307.jpg\n",
      "52 45 b33c70105e121ab737613b6f8efd8773.jpg\n",
      "52 44 ace1df04231ed7f057ecdd6326d9ca6f.jpg\n",
      "44 52 c847943451ecd1fb4db392c033b52762.jpg\n",
      "53 44 4436edf6-8c6d-4cc5-b973-1f0afd218e86___GCREC_Bact.Sp 6271.JPG\n",
      "20 21 6ad54caa0717bae65ccfff9aff7435a5.jpg\n",
      "52 44 9f9da1c1-3c47-4e3c-a673-9a20e7f745b6___GCREC_Bact.Sp 3547.JPG\n",
      "20 21 7092c78f3b6ebbb48ad3404a724fecb0.jpg\n",
      "44 52 a346d735-b67a-4838-b6b2-917e896fbd62___GCREC_Bact.Sp 2996.JPG\n",
      "7 8 baf48061-d4ee-45b3-8806-d26ad15bb8ad___FREC_Pwd.M 0328.JPG\n",
      "44 52 dbd7f161faaf48d9f4cf47fdd6b8ce30.jpg\n",
      "45 53 26da6067438ce0cb9bb81be8786b19d1.jpg\n",
      "52 44 3ad3361bd97c12dc5cb9d3138cbba94f.jpg\n",
      "26 25 f8134c59-2780-4090-84a6-678296698327___UF.Citrus_HLB_Lab 1632.JPG\n",
      "53 45 da3f518feff9258e2a995ba397674536.jpg\n",
      "8 7 4b2f2df6-06e4-46c2-9c45-268ddbea8477___FREC_Pwd.M 0375.JPG\n",
      "52 44 52e4ee505c8cc9e7632d4239e703bf2a.jpg\n",
      "52 44 b6f247db-9a19-429c-b665-36a0407b230c___GCREC_Bact.Sp 6373.JPG\n",
      "52 44 166a69a7-cae0-4e6e-ac75-bc207a5335f4___GCREC_Bact.Sp 5705.JPG\n",
      "52 44 a469ae7c-95bb-4633-89a6-bb9da9dcb99d___GCREC_Bact.Sp 5635.JPG\n",
      "45 52 6992f9df-55ea-43ff-b1ee-96b200f9fd72___GCREC_Bact.Sp 5544.JPG\n",
      "8 7 849207ab-f567-4567-b70e-2d34f5376a48___FREC_Pwd.M 0442.JPG\n",
      "53 45 14f9fe9d-517e-4f70-9a4b-97fff9a26e65___GCREC_Bact.Sp 6295.JPG\n",
      "45 53 a7ce5e65378ce08453f88eb672106429.jpg\n",
      "53 45 1d2bcd85-fdb7-4294-ba11-eb58373b4474___GCREC_Bact.Sp 3092.JPG\n",
      "25 26 4a64caa9-04ef-476f-b4a1-23998f1920c4___CREC_HLB 6756.JPG\n",
      "45 52 e8a89c70-47c0-478f-b4b3-4f4a754f879f___GCREC_Bact.Sp 3807.JPG\n",
      "53 45 6c4079a89963d71120767e35c2189a97.jpg\n",
      "52 44 0ab54691-ba9f-4c1f-a69b-ec0501df4401___GCREC_Bact.Sp 3170.JPG\n",
      "7 8 3f16d4f4-5cc6-4817-852f-6ab66dcee360___FREC_Pwd.M 0528.JPG\n",
      "25 26 5e7094fe-a062-42f7-a04f-6235c8c910aa___UF.Citrus_HLB_Lab 9988.JPG\n",
      "53 45 c8460f59-b097-4d67-9832-1db6e2334459___UF.GRC_BS_Lab Leaf 0360.JPG\n",
      "53 45 7cce3d3670a75b8f39be7315865ec793.jpg\n",
      "44 52 4183bde2cd53d52b13096d060f81d8f6.jpg\n",
      "7 8 c6d3f6f6-479f-41f0-adb2-6674181932f2___FREC_Pwd.M 0330.JPG\n",
      "45 53 d1502011a25648e165e79c618424ee7d.jpg\n",
      "52 44 bfd017bf9d8ca89bc2115c45e352c326.jpg\n",
      "44 52 d7170be6e5946fe07be47fbe99ae419a.jpg\n",
      "45 52 8ac28511565d3f53ff74b1bb3f9e810d.jpg\n",
      "52 44 e797fd83-e984-4df6-a3a2-c19a95d19576___GCREC_Bact.Sp 3425.JPG\n",
      "45 53 349f68f1-a57d-43bf-9422-3f6e905a9539___UF.GRC_BS_Lab Leaf 8692.JPG\n",
      "44 52 776b7c5a95cedb7e7902f1669a5bb629.jpg\n",
      "44 52 fa2f8a79c64651a49e5f99ddc994ab09.jpg\n",
      "52 44 00720768984d139ef8203531dae1553f.jpg\n",
      "53 45 07f5c629-92da-49ad-b132-6268199882f8___GCREC_Bact.Sp 3362.JPG\n",
      "26 25 0f5324c3-fd9b-4f26-a9f9-98513f5c1336___CREC_HLB 7222.JPG\n",
      "52 45 e3bd438211ae0ba49a056fd890e91dcb.jpg\n",
      "53 44 a23df4eedf01dfa7465a3c69c35cf170.jpg\n",
      "53 45 238704619cc17f4215c7b2efd8b9a025.jpg\n",
      "45 53 78f2c9372106d0af640f0e9cc06d92bc.jpg\n",
      "52 44 ab4114fb-2312-41ba-a60d-bd262c97889f___GCREC_Bact.Sp 6258.JPG\n",
      "52 44 37b32099-fdba-4c48-8bef-1904cd580737___GCREC_Bact.Sp 5897.JPG\n",
      "53 45 bcb2dd59-8278-4bc7-9a7c-0fbc599adbab___UF.GRC_BS_Lab Leaf 8961.JPG\n",
      "52 45 c59e9a3b15f9d25c83409b626761ce9d.jpg\n",
      "44 52 eccb54d279145ba000aaa2da1cdcff64.jpg\n",
      "21 20 49cc07fbe54cbfa1f1402159ed3595cf.jpg\n",
      "45 53 c4d2f661-56fd-4c84-9a51-03e4f806f085___UF.GRC_BS_Lab Leaf 0684.JPG\n",
      "44 52 98f748c4502e751086846ecd2fde8e83.jpg\n",
      "52 44 ccb227418e6743d68675e0a8ea81f3ef.jpg\n",
      "45 53 94096d9a-28b6-48b8-a7c4-8b4fa2885561___UF.GRC_BS_Lab Leaf 0213.JPG\n",
      "52 44 0c589548ef3008423f4ccdf42a8aa300.jpg\n"
     ]
    }
   ],
   "source": [
    "ddd = []\n",
    "for k in aaa:\n",
    "    if (tr_jd[k] != v_jd[k]):\n",
    "        print(tr_jd[k], v_jd[k], k)"
   ]
  },
  {
   "cell_type": "code",
   "execution_count": 28,
   "metadata": {
    "scrolled": true
   },
   "outputs": [
    {
     "data": {
      "text/plain": [
       "333"
      ]
     },
     "execution_count": 28,
     "metadata": {},
     "output_type": "execute_result"
    }
   ],
   "source": [
    "len(ddd)"
   ]
  },
  {
   "cell_type": "code",
   "execution_count": 29,
   "metadata": {},
   "outputs": [
    {
     "data": {
      "text/plain": [
       "333"
      ]
     },
     "execution_count": 29,
     "metadata": {},
     "output_type": "execute_result"
    }
   ],
   "source": [
    "len(aaa)"
   ]
  },
  {
   "cell_type": "code",
   "execution_count": 34,
   "metadata": {},
   "outputs": [
    {
     "data": {
      "text/plain": [
       "'0809f630-10f6-48b4-9aa2-6c08852aa83a___GCREC_Bact.Sp 5626.JPG'"
      ]
     },
     "execution_count": 34,
     "metadata": {},
     "output_type": "execute_result"
    }
   ],
   "source": [
    "ddd[123]"
   ]
  },
  {
   "cell_type": "code",
   "execution_count": 31,
   "metadata": {},
   "outputs": [
    {
     "data": {
      "text/plain": [
       "52"
      ]
     },
     "execution_count": 31,
     "metadata": {},
     "output_type": "execute_result"
    }
   ],
   "source": [
    "tr_jd[k]"
   ]
  },
  {
   "cell_type": "code",
   "execution_count": 32,
   "metadata": {},
   "outputs": [
    {
     "data": {
      "text/plain": [
       "44"
      ]
     },
     "execution_count": 32,
     "metadata": {},
     "output_type": "execute_result"
    }
   ],
   "source": [
    "v_jd[k]"
   ]
  },
  {
   "cell_type": "code",
   "execution_count": null,
   "metadata": {},
   "outputs": [],
   "source": []
  }
 ],
 "metadata": {
  "kernelspec": {
   "display_name": "Python 3",
   "language": "python",
   "name": "python3"
  },
  "language_info": {
   "codemirror_mode": {
    "name": "ipython",
    "version": 3
   },
   "file_extension": ".py",
   "mimetype": "text/x-python",
   "name": "python",
   "nbconvert_exporter": "python",
   "pygments_lexer": "ipython3",
   "version": "3.6.5"
  }
 },
 "nbformat": 4,
 "nbformat_minor": 2
}
